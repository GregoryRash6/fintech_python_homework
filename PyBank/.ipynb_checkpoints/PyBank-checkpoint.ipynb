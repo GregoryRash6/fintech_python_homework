{
 "cells": [
  {
   "cell_type": "code",
   "execution_count": 1,
   "metadata": {},
   "outputs": [],
   "source": [
    "# Import Dependecies\n",
    "import pandas as pd"
   ]
  },
  {
   "cell_type": "code",
   "execution_count": 2,
   "metadata": {},
   "outputs": [],
   "source": [
    "# Read CSV\n",
    "budget_data = pd.read_csv(\"Resources/budget_data.csv\")"
   ]
  },
  {
   "cell_type": "code",
   "execution_count": 3,
   "metadata": {},
   "outputs": [
    {
     "data": {
      "text/html": [
       "<div>\n",
       "<style scoped>\n",
       "    .dataframe tbody tr th:only-of-type {\n",
       "        vertical-align: middle;\n",
       "    }\n",
       "\n",
       "    .dataframe tbody tr th {\n",
       "        vertical-align: top;\n",
       "    }\n",
       "\n",
       "    .dataframe thead th {\n",
       "        text-align: right;\n",
       "    }\n",
       "</style>\n",
       "<table border=\"1\" class=\"dataframe\">\n",
       "  <thead>\n",
       "    <tr style=\"text-align: right;\">\n",
       "      <th></th>\n",
       "      <th>Date</th>\n",
       "      <th>Profit/Losses</th>\n",
       "    </tr>\n",
       "  </thead>\n",
       "  <tbody>\n",
       "    <tr>\n",
       "      <td>0</td>\n",
       "      <td>Jan-2010</td>\n",
       "      <td>867884</td>\n",
       "    </tr>\n",
       "    <tr>\n",
       "      <td>1</td>\n",
       "      <td>Feb-2010</td>\n",
       "      <td>984655</td>\n",
       "    </tr>\n",
       "    <tr>\n",
       "      <td>2</td>\n",
       "      <td>Mar-2010</td>\n",
       "      <td>322013</td>\n",
       "    </tr>\n",
       "    <tr>\n",
       "      <td>3</td>\n",
       "      <td>Apr-2010</td>\n",
       "      <td>-69417</td>\n",
       "    </tr>\n",
       "    <tr>\n",
       "      <td>4</td>\n",
       "      <td>May-2010</td>\n",
       "      <td>310503</td>\n",
       "    </tr>\n",
       "    <tr>\n",
       "      <td>...</td>\n",
       "      <td>...</td>\n",
       "      <td>...</td>\n",
       "    </tr>\n",
       "    <tr>\n",
       "      <td>81</td>\n",
       "      <td>Oct-2016</td>\n",
       "      <td>102685</td>\n",
       "    </tr>\n",
       "    <tr>\n",
       "      <td>82</td>\n",
       "      <td>Nov-2016</td>\n",
       "      <td>795914</td>\n",
       "    </tr>\n",
       "    <tr>\n",
       "      <td>83</td>\n",
       "      <td>Dec-2016</td>\n",
       "      <td>60988</td>\n",
       "    </tr>\n",
       "    <tr>\n",
       "      <td>84</td>\n",
       "      <td>Jan-2017</td>\n",
       "      <td>138230</td>\n",
       "    </tr>\n",
       "    <tr>\n",
       "      <td>85</td>\n",
       "      <td>Feb-2017</td>\n",
       "      <td>671099</td>\n",
       "    </tr>\n",
       "  </tbody>\n",
       "</table>\n",
       "<p>86 rows × 2 columns</p>\n",
       "</div>"
      ],
      "text/plain": [
       "        Date  Profit/Losses\n",
       "0   Jan-2010         867884\n",
       "1   Feb-2010         984655\n",
       "2   Mar-2010         322013\n",
       "3   Apr-2010         -69417\n",
       "4   May-2010         310503\n",
       "..       ...            ...\n",
       "81  Oct-2016         102685\n",
       "82  Nov-2016         795914\n",
       "83  Dec-2016          60988\n",
       "84  Jan-2017         138230\n",
       "85  Feb-2017         671099\n",
       "\n",
       "[86 rows x 2 columns]"
      ]
     },
     "execution_count": 3,
     "metadata": {},
     "output_type": "execute_result"
    }
   ],
   "source": [
    "# See Data\n",
    "budget_data"
   ]
  },
  {
   "cell_type": "markdown",
   "metadata": {},
   "source": [
    "# The total number of months included in the dataset"
   ]
  },
  {
   "cell_type": "code",
   "execution_count": 4,
   "metadata": {},
   "outputs": [
    {
     "name": "stdout",
     "output_type": "stream",
     "text": [
      "There are 86 months included in the dataset.\n"
     ]
    }
   ],
   "source": [
    "# Find Months\n",
    "total_months = len(budget_data[\"Date\"])\n",
    "\n",
    "# Print Total\n",
    "print(f\"There are {total_months} months included in the dataset.\")"
   ]
  },
  {
   "cell_type": "markdown",
   "metadata": {},
   "source": [
    "# The net total amount of Profit/Losses over the entire period"
   ]
  },
  {
   "cell_type": "code",
   "execution_count": 5,
   "metadata": {},
   "outputs": [
    {
     "name": "stdout",
     "output_type": "stream",
     "text": [
      "The net total amount of profit/losses over the entire period is $38382578.\n"
     ]
    }
   ],
   "source": [
    "# Find Net Total\n",
    "net_total = budget_data[\"Profit/Losses\"].sum()\n",
    "\n",
    "# Print Net Total\n",
    "print(f\"The net total amount of profit/losses over the entire period is ${net_total}.\")"
   ]
  },
  {
   "cell_type": "markdown",
   "metadata": {},
   "source": [
    "# The average of the changes in Profit/Losses over the entire period"
   ]
  },
  {
   "cell_type": "code",
   "execution_count": 6,
   "metadata": {},
   "outputs": [
    {
     "name": "stdout",
     "output_type": "stream",
     "text": [
      "The average of the changes in profit/losses over the entire period was $-2315.12 per month.\n"
     ]
    }
   ],
   "source": [
    "# Initialize AVerage Total\n",
    "average_total = 0\n",
    "\n",
    "# Initialize Count\n",
    "count = 0 \n",
    "\n",
    "# For Loop to Find Average of Changes\n",
    "for x in range(len(budget_data) - 1):\n",
    "    change = budget_data[\"Profit/Losses\"][x + 1] - budget_data[\"Profit/Losses\"][x]\n",
    "    average_total += change\n",
    "    count += 1\n",
    "\n",
    "# Find Average Change\n",
    "average_change = round(average_total / count, 2)\n",
    "\n",
    "# Print Average Change\n",
    "print(f\"The average of the changes in profit/losses over the entire period was ${average_change} per month.\")"
   ]
  },
  {
   "cell_type": "markdown",
   "metadata": {},
   "source": [
    "# The greatest increase in profits (date and amount) over the entire period"
   ]
  },
  {
   "cell_type": "code",
   "execution_count": 7,
   "metadata": {},
   "outputs": [
    {
     "name": "stdout",
     "output_type": "stream",
     "text": [
      "The greatest increase in profits was $1926159.\n",
      "The month the greatest increase in profit occurred was Feb-2012.\n"
     ]
    }
   ],
   "source": [
    "# Initialize Profit Increase\n",
    "profit_increase = 0\n",
    "\n",
    "# Find Increase in Profit & Month\n",
    "for x in range(len(budget_data[\"Profit/Losses\"]) - 1):\n",
    "    if (budget_data[\"Profit/Losses\"][x + 1] - budget_data[\"Profit/Losses\"][x]) > profit_increase:\n",
    "        profit_increase = (budget_data[\"Profit/Losses\"][x + 1] - budget_data[\"Profit/Losses\"][x])\n",
    "        increase_month = budget_data[\"Date\"][x + 1]\n",
    "\n",
    "# Print Profit Increase\n",
    "print(f\"The greatest increase in profits was ${profit_increase}.\")\n",
    "\n",
    "# Print Month of Profit Increase\n",
    "print(f\"The month the greatest increase in profit occurred was {increase_month}.\")"
   ]
  },
  {
   "cell_type": "markdown",
   "metadata": {},
   "source": [
    "# The greatest decrease in losses (date and amount) over the entire period"
   ]
  },
  {
   "cell_type": "code",
   "execution_count": 8,
   "metadata": {},
   "outputs": [
    {
     "name": "stdout",
     "output_type": "stream",
     "text": [
      "The greatest decrease in profits was $-2196167.\n",
      "The month the greatest decrease in profit occurred was Sep-2013.\n"
     ]
    }
   ],
   "source": [
    "# Initialize Profit Decrease\n",
    "profit_decrease = 0\n",
    "\n",
    "# Find Decrease in Profit & Month\n",
    "for x in range(len(budget_data[\"Profit/Losses\"]) - 1):\n",
    "    if (budget_data[\"Profit/Losses\"][x + 1] - budget_data[\"Profit/Losses\"][x]) < profit_decrease:\n",
    "        profit_decrease = (budget_data[\"Profit/Losses\"][x + 1] - budget_data[\"Profit/Losses\"][x])\n",
    "        decrease_month = budget_data[\"Date\"][x + 1]\n",
    "\n",
    "# Print Profit Decrease\n",
    "print(f\"The greatest decrease in profits was ${profit_decrease}.\")\n",
    "\n",
    "# Print Month of Profit Decrease\n",
    "print(f\"The month the greatest decrease in profit occurred was {decrease_month}.\")"
   ]
  },
  {
   "cell_type": "markdown",
   "metadata": {},
   "source": [
    "# Final Financial Analysis"
   ]
  },
  {
   "cell_type": "code",
   "execution_count": 9,
   "metadata": {},
   "outputs": [
    {
     "name": "stdout",
     "output_type": "stream",
     "text": [
      "Financial Analysis\n",
      "----------------------------\n",
      "Total Months: 86\n",
      "Total: $38382578\n",
      "Average Change: $-2315.12\n",
      "Greatest Increase in Profits: Feb-2012 ($1926159)\n",
      "Greatest Decrease in Profits: Sep-2013 ($-2196167)\n",
      "\n"
     ]
    }
   ],
   "source": [
    "print(f\"\"\"Financial Analysis\n",
    "----------------------------\n",
    "Total Months: {total_months}\n",
    "Total: ${net_total}\n",
    "Average Change: ${average_change}\n",
    "Greatest Increase in Profits: {increase_month} (${profit_increase})\n",
    "Greatest Decrease in Profits: {decrease_month} (${profit_decrease})\n",
    "\"\"\")"
   ]
  },
  {
   "cell_type": "markdown",
   "metadata": {},
   "source": [
    "# Save to Text File"
   ]
  },
  {
   "cell_type": "code",
   "execution_count": 10,
   "metadata": {},
   "outputs": [],
   "source": [
    "print(f\"\"\"Financial Analysis\n",
    "----------------------------\n",
    "Total Months: {total_months}\n",
    "Total: ${net_total}\n",
    "Average Change: ${average_change}\n",
    "Greatest Increase in Profits: {increase_month} (${profit_increase})\n",
    "Greatest Decrease in Profits: {decrease_month} (${profit_decrease})\n",
    "\"\"\", file=open(\"PyBank_output.txt\", \"a\"))"
   ]
  }
 ],
 "metadata": {
  "kernelspec": {
   "display_name": "Python 3",
   "language": "python",
   "name": "python3"
  },
  "language_info": {
   "codemirror_mode": {
    "name": "ipython",
    "version": 3
   },
   "file_extension": ".py",
   "mimetype": "text/x-python",
   "name": "python",
   "nbconvert_exporter": "python",
   "pygments_lexer": "ipython3",
   "version": "3.7.4"
  }
 },
 "nbformat": 4,
 "nbformat_minor": 4
}
