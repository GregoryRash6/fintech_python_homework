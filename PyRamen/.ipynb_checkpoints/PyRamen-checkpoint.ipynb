{
 "cells": [
  {
   "cell_type": "code",
   "execution_count": 1,
   "metadata": {},
   "outputs": [],
   "source": [
    "# Import Dependencies\n",
    "import pandas as pd"
   ]
  },
  {
   "cell_type": "code",
   "execution_count": 2,
   "metadata": {},
   "outputs": [],
   "source": [
    "# Read Menu Data\n",
    "menu_data = pd.read_csv(\"Resources/menu_data.csv\")\n",
    "\n",
    "# Read Sales Data\n",
    "sales_data = pd.read_csv(\"Resources/sales_data.csv\")"
   ]
  },
  {
   "cell_type": "code",
   "execution_count": 3,
   "metadata": {},
   "outputs": [],
   "source": [
    "# Initialize Report\n",
    "report = {}\n",
    "\n",
    "# Find Count \n",
    "for x in range(len(sales_data)):\n",
    "    if sales_data[\"Menu_Item\"][x] not in report:\n",
    "        report[sales_data[\"Menu_Item\"][x]] = {\"01-count\": sales_data[\"Quantity\"][x], \"02-revenue\": 0, \"03-cogs\": 0, \"04-profit\": 0}\n",
    "    else:\n",
    "        report[sales_data[\"Menu_Item\"][x]][\"01-count\"] += sales_data[\"Quantity\"][x]"
   ]
  },
  {
   "cell_type": "code",
   "execution_count": 4,
   "metadata": {},
   "outputs": [],
   "source": [
    "# Find Revenue, COGS, & Profit\n",
    "for x in range(len(menu_data)):\n",
    "    if menu_data[\"item\"][x] in report:\n",
    "        report[menu_data[\"item\"][x]][\"02-revenue\"] = (menu_data[\"price\"][x] * report[menu_data[\"item\"][x]][\"01-count\"])\n",
    "        report[menu_data[\"item\"][x]][\"03-cogs\"] = (menu_data[\"cost\"][x] * report[menu_data[\"item\"][x]][\"01-count\"])\n",
    "        report[menu_data[\"item\"][x]][\"04-profit\"] = (report[menu_data[\"item\"][x]][\"02-revenue\"] - report[menu_data[\"item\"][x]][\"03-cogs\"])"
   ]
  },
  {
   "cell_type": "code",
   "execution_count": 5,
   "metadata": {},
   "outputs": [
    {
     "name": "stdout",
     "output_type": "stream",
     "text": [
      "spicy miso ramen: {'01-count': 9238, '02-revenue': 110856.0, '03-cogs': 46190, '04-profit': 64666.0}\n",
      "tori paitan ramen: {'01-count': 9156, '02-revenue': 119028.0, '03-cogs': 54936, '04-profit': 64092.0}\n",
      "truffle butter ramen: {'01-count': 8982, '02-revenue': 125748.0, '03-cogs': 62874, '04-profit': 62874.0}\n",
      "tonkotsu ramen: {'01-count': 9288, '02-revenue': 120744.0, '03-cogs': 55728, '04-profit': 65016.0}\n",
      "vegetarian spicy miso: {'01-count': 9216, '02-revenue': 110592.0, '03-cogs': 46080, '04-profit': 64512.0}\n",
      "shio ramen: {'01-count': 9180, '02-revenue': 100980.0, '03-cogs': 45900, '04-profit': 55080.0}\n",
      "miso crab ramen: {'01-count': 8890, '02-revenue': 106680.0, '03-cogs': 53340, '04-profit': 53340.0}\n",
      "nagomi shoyu: {'01-count': 9132, '02-revenue': 100452.0, '03-cogs': 45660, '04-profit': 54792.0}\n",
      "soft-shell miso crab ramen: {'01-count': 9130, '02-revenue': 127820.0, '03-cogs': 63910, '04-profit': 63910.0}\n",
      "burnt garlic tonkotsu ramen: {'01-count': 9070, '02-revenue': 126980.0, '03-cogs': 54420, '04-profit': 72560.0}\n",
      "vegetarian curry + king trumpet mushroom ramen: {'01-count': 8824, '02-revenue': 114712.0, '03-cogs': 61768, '04-profit': 52944.0}\n"
     ]
    }
   ],
   "source": [
    "# Print Report\n",
    "for key in report.keys():\n",
    "  print(f\"{key}: {report[key]}\")"
   ]
  },
  {
   "cell_type": "code",
   "execution_count": 6,
   "metadata": {},
   "outputs": [],
   "source": [
    "# Export Report to File\n",
    "for key in report.keys():\n",
    "  print(f\"{key}: {report[key]}\", file=open(\"PyRamen_output.txt\", \"a\"))"
   ]
  },
  {
   "cell_type": "code",
   "execution_count": null,
   "metadata": {},
   "outputs": [],
   "source": []
  }
 ],
 "metadata": {
  "kernelspec": {
   "display_name": "Python 3",
   "language": "python",
   "name": "python3"
  },
  "language_info": {
   "codemirror_mode": {
    "name": "ipython",
    "version": 3
   },
   "file_extension": ".py",
   "mimetype": "text/x-python",
   "name": "python",
   "nbconvert_exporter": "python",
   "pygments_lexer": "ipython3",
   "version": "3.7.4"
  }
 },
 "nbformat": 4,
 "nbformat_minor": 4
}
